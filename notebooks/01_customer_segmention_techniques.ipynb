{
 "cells": [
  {
   "cell_type": "markdown",
   "id": "40d4ac1c",
   "metadata": {},
   "source": [
    "Source - https://www.kaggle.com/code/mgmarques/customer-segmentation-and-market-basket-analysis#Customer-Segmentation:"
   ]
  },
  {
   "cell_type": "code",
   "execution_count": 1,
   "id": "3e8096ea",
   "metadata": {},
   "outputs": [],
   "source": [
    "# install necessary dependencies\n"
   ]
  },
  {
   "cell_type": "code",
   "execution_count": 2,
   "id": "49f62839",
   "metadata": {},
   "outputs": [],
   "source": [
    "# import necessary libraries\n",
    "import pandas as pd\n",
    "import numpy as np\n",
    "import matplotlib.pyplot as plt\n",
    "import seaborn as sns"
   ]
  },
  {
   "cell_type": "code",
   "execution_count": 6,
   "id": "6ab05f50",
   "metadata": {},
   "outputs": [],
   "source": [
    "sns.set(style=\"ticks\", color_codes=True, font_scale=1.5)\n",
    "color = sns.color_palette()\n",
    "sns.set_style('whitegrid')\n",
    "%matplotlib inline\n",
    "\n",
    "import warnings\n",
    "\n",
    "warnings.filterwarnings(\"ignore\")"
   ]
  },
  {
   "cell_type": "code",
   "execution_count": 7,
   "id": "d5a9ff18",
   "metadata": {},
   "outputs": [],
   "source": [
    "# other libraries\n",
    "from scipy import stats\n",
    "from scipy.stats import skew, norm, probplot, boxcox\n",
    "from sklearn import preprocessing\n",
    "import math\n",
    "\n",
    "from sklearn.cluster import KMeans\n",
    "from sklearn.metrics import silhouette_samples, silhouette_score"
   ]
  },
  {
   "cell_type": "code",
   "execution_count": 8,
   "id": "227e198e",
   "metadata": {},
   "outputs": [],
   "source": [
    "cd_or_df = pd.read_excel(\"../data/Online Retail.xlsx\")"
   ]
  },
  {
   "cell_type": "code",
   "execution_count": 9,
   "id": "be9a905f",
   "metadata": {},
   "outputs": [
    {
     "data": {
      "text/html": [
       "<div>\n",
       "<style scoped>\n",
       "    .dataframe tbody tr th:only-of-type {\n",
       "        vertical-align: middle;\n",
       "    }\n",
       "\n",
       "    .dataframe tbody tr th {\n",
       "        vertical-align: top;\n",
       "    }\n",
       "\n",
       "    .dataframe thead th {\n",
       "        text-align: right;\n",
       "    }\n",
       "</style>\n",
       "<table border=\"1\" class=\"dataframe\">\n",
       "  <thead>\n",
       "    <tr style=\"text-align: right;\">\n",
       "      <th></th>\n",
       "      <th>InvoiceNo</th>\n",
       "      <th>StockCode</th>\n",
       "      <th>Description</th>\n",
       "      <th>Quantity</th>\n",
       "      <th>InvoiceDate</th>\n",
       "      <th>UnitPrice</th>\n",
       "      <th>CustomerID</th>\n",
       "      <th>Country</th>\n",
       "    </tr>\n",
       "  </thead>\n",
       "  <tbody>\n",
       "    <tr>\n",
       "      <th>0</th>\n",
       "      <td>536365</td>\n",
       "      <td>85123A</td>\n",
       "      <td>WHITE HANGING HEART T-LIGHT HOLDER</td>\n",
       "      <td>6</td>\n",
       "      <td>2010-12-01 08:26:00</td>\n",
       "      <td>2.55</td>\n",
       "      <td>17850.0</td>\n",
       "      <td>United Kingdom</td>\n",
       "    </tr>\n",
       "    <tr>\n",
       "      <th>1</th>\n",
       "      <td>536365</td>\n",
       "      <td>71053</td>\n",
       "      <td>WHITE METAL LANTERN</td>\n",
       "      <td>6</td>\n",
       "      <td>2010-12-01 08:26:00</td>\n",
       "      <td>3.39</td>\n",
       "      <td>17850.0</td>\n",
       "      <td>United Kingdom</td>\n",
       "    </tr>\n",
       "    <tr>\n",
       "      <th>2</th>\n",
       "      <td>536365</td>\n",
       "      <td>84406B</td>\n",
       "      <td>CREAM CUPID HEARTS COAT HANGER</td>\n",
       "      <td>8</td>\n",
       "      <td>2010-12-01 08:26:00</td>\n",
       "      <td>2.75</td>\n",
       "      <td>17850.0</td>\n",
       "      <td>United Kingdom</td>\n",
       "    </tr>\n",
       "    <tr>\n",
       "      <th>3</th>\n",
       "      <td>536365</td>\n",
       "      <td>84029G</td>\n",
       "      <td>KNITTED UNION FLAG HOT WATER BOTTLE</td>\n",
       "      <td>6</td>\n",
       "      <td>2010-12-01 08:26:00</td>\n",
       "      <td>3.39</td>\n",
       "      <td>17850.0</td>\n",
       "      <td>United Kingdom</td>\n",
       "    </tr>\n",
       "    <tr>\n",
       "      <th>4</th>\n",
       "      <td>536365</td>\n",
       "      <td>84029E</td>\n",
       "      <td>RED WOOLLY HOTTIE WHITE HEART.</td>\n",
       "      <td>6</td>\n",
       "      <td>2010-12-01 08:26:00</td>\n",
       "      <td>3.39</td>\n",
       "      <td>17850.0</td>\n",
       "      <td>United Kingdom</td>\n",
       "    </tr>\n",
       "  </tbody>\n",
       "</table>\n",
       "</div>"
      ],
      "text/plain": [
       "  InvoiceNo StockCode                          Description  Quantity  \\\n",
       "0    536365    85123A   WHITE HANGING HEART T-LIGHT HOLDER         6   \n",
       "1    536365     71053                  WHITE METAL LANTERN         6   \n",
       "2    536365    84406B       CREAM CUPID HEARTS COAT HANGER         8   \n",
       "3    536365    84029G  KNITTED UNION FLAG HOT WATER BOTTLE         6   \n",
       "4    536365    84029E       RED WOOLLY HOTTIE WHITE HEART.         6   \n",
       "\n",
       "          InvoiceDate  UnitPrice  CustomerID         Country  \n",
       "0 2010-12-01 08:26:00       2.55     17850.0  United Kingdom  \n",
       "1 2010-12-01 08:26:00       3.39     17850.0  United Kingdom  \n",
       "2 2010-12-01 08:26:00       2.75     17850.0  United Kingdom  \n",
       "3 2010-12-01 08:26:00       3.39     17850.0  United Kingdom  \n",
       "4 2010-12-01 08:26:00       3.39     17850.0  United Kingdom  "
      ]
     },
     "execution_count": 9,
     "metadata": {},
     "output_type": "execute_result"
    }
   ],
   "source": [
    "cd_or_df.head()"
   ]
  },
  {
   "cell_type": "markdown",
   "id": "a53dcc4f",
   "metadata": {},
   "source": [
    "**Data Description**\n",
    "\n",
    "- **InvoiceNo**: a 6-digit integral number uniquely assigned to each transaction. If this code starts with letter 'c', it indicates a cancellation.\n",
    "- **StockCode**: a 5-digit integral number uniquely assigned to each distinct product.\n",
    "- **Description**: product name.\n",
    "- **Quantity**: the quantities of each product (item) per transaction.\n",
    "- **InvoiceDate**: the day and time when each transaction was generated.\n",
    "- **UnitPrice**: product price per unit.\n",
    "- **CustomerID**: a 5-digit integral number uniquely assigned to each customer.\n",
    "- **Country**: the name of the country where each customer resides."
   ]
  },
  {
   "cell_type": "markdown",
   "id": "f1849f5c",
   "metadata": {},
   "source": [
    "## Exploratory Data Analysis"
   ]
  },
  {
   "cell_type": "code",
   "execution_count": 14,
   "id": "b99d122f",
   "metadata": {},
   "outputs": [
    {
     "name": "stdout",
     "output_type": "stream",
     "text": [
      "<class 'pandas.core.frame.DataFrame'>\n",
      "RangeIndex: 541909 entries, 0 to 541908\n",
      "Data columns (total 8 columns):\n",
      " #   Column       Non-Null Count   Dtype         \n",
      "---  ------       --------------   -----         \n",
      " 0   InvoiceNo    541909 non-null  object        \n",
      " 1   StockCode    541909 non-null  object        \n",
      " 2   Description  540455 non-null  object        \n",
      " 3   Quantity     541909 non-null  int64         \n",
      " 4   InvoiceDate  541909 non-null  datetime64[ns]\n",
      " 5   UnitPrice    541909 non-null  float64       \n",
      " 6   CustomerID   406829 non-null  float64       \n",
      " 7   Country      541909 non-null  object        \n",
      "dtypes: datetime64[ns](1), float64(2), int64(1), object(4)\n",
      "memory usage: 33.1+ MB\n"
     ]
    }
   ],
   "source": [
    "cd_or_df.info()"
   ]
  },
  {
   "cell_type": "code",
   "execution_count": 16,
   "id": "45ef83c2",
   "metadata": {},
   "outputs": [
    {
     "data": {
      "text/plain": [
       "5268"
      ]
     },
     "execution_count": 16,
     "metadata": {},
     "output_type": "execute_result"
    }
   ],
   "source": [
    "cd_or_df.duplicated().sum()"
   ]
  },
  {
   "cell_type": "code",
   "execution_count": 24,
   "id": "964f562d",
   "metadata": {},
   "outputs": [
    {
     "data": {
      "text/plain": [
       "object            4\n",
       "float64           2\n",
       "int64             1\n",
       "datetime64[ns]    1\n",
       "Name: count, dtype: int64"
      ]
     },
     "execution_count": 24,
     "metadata": {},
     "output_type": "execute_result"
    }
   ],
   "source": [
    "cd_or_df.dtypes.value_counts()"
   ]
  },
  {
   "cell_type": "markdown",
   "id": "0577ae0c",
   "metadata": {},
   "source": [
    "There are some duplicates involved in the data, which needs to be removed further down the line."
   ]
  },
  {
   "cell_type": "code",
   "execution_count": 49,
   "id": "9f38826e",
   "metadata": {},
   "outputs": [],
   "source": [
    "# getting internal details of the data using a function\n",
    "\n",
    "def get_structure(df):\n",
    "    n_rows = df.shape[0]\n",
    "    d_types = df.dtypes\n",
    "    total_cnt = df.count()\n",
    "    null_cnt = df.isnull().sum()\n",
    "    missing_perc = (null_cnt / n_rows) * 100\n",
    "    unq_vals = df.apply(lambda x: x.unique().shape[0])\n",
    "    total_unq = df.apply(lambda x: x.unique()).apply(lambda x: list(x))\n",
    "    numeric_cols = df.select_dtypes(include=[np.number])\n",
    "    kurtosis = numeric_cols.kurt()\n",
    "    skewness = numeric_cols.skew()\n",
    "\n",
    "    summary = pd.DataFrame({\n",
    "        'Data Type': d_types,\n",
    "        'Non-Null Count': total_cnt,\n",
    "        'Null Count': null_cnt,\n",
    "        'Missing Percentage (%)': missing_perc.round(2),\n",
    "        'Number of Unique Values': unq_vals,\n",
    "        'Sample Unique Values': total_unq\n",
    "    })\n",
    "\n",
    "    if not numeric_cols.empty:\n",
    "        summary['Skewness'] = skewness\n",
    "        summary['Kurtosis'] = kurtosis\n",
    "    else:\n",
    "        summary['Skewness'] = \"N/A\"\n",
    "        summary['Kurtosis'] = \"N/A\"\n",
    "    \n",
    "    return summary"
   ]
  },
  {
   "cell_type": "code",
   "execution_count": 51,
   "id": "29263bbd",
   "metadata": {},
   "outputs": [
    {
     "data": {
      "text/html": [
       "<div>\n",
       "<style scoped>\n",
       "    .dataframe tbody tr th:only-of-type {\n",
       "        vertical-align: middle;\n",
       "    }\n",
       "\n",
       "    .dataframe tbody tr th {\n",
       "        vertical-align: top;\n",
       "    }\n",
       "\n",
       "    .dataframe thead th {\n",
       "        text-align: right;\n",
       "    }\n",
       "</style>\n",
       "<table border=\"1\" class=\"dataframe\">\n",
       "  <thead>\n",
       "    <tr style=\"text-align: right;\">\n",
       "      <th></th>\n",
       "      <th>Data Type</th>\n",
       "      <th>Non-Null Count</th>\n",
       "      <th>Null Count</th>\n",
       "      <th>Missing Percentage (%)</th>\n",
       "      <th>Number of Unique Values</th>\n",
       "      <th>Sample Unique Values</th>\n",
       "      <th>Skewness</th>\n",
       "      <th>Kurtosis</th>\n",
       "    </tr>\n",
       "  </thead>\n",
       "  <tbody>\n",
       "    <tr>\n",
       "      <th>CustomerID</th>\n",
       "      <td>float64</td>\n",
       "      <td>406829</td>\n",
       "      <td>135080</td>\n",
       "      <td>24.93</td>\n",
       "      <td>4373</td>\n",
       "      <td>[17850.0, 13047.0, 12583.0, 13748.0, 15100.0, ...</td>\n",
       "      <td>0.029835</td>\n",
       "      <td>-1.179982</td>\n",
       "    </tr>\n",
       "    <tr>\n",
       "      <th>Description</th>\n",
       "      <td>object</td>\n",
       "      <td>540455</td>\n",
       "      <td>1454</td>\n",
       "      <td>0.27</td>\n",
       "      <td>4224</td>\n",
       "      <td>[WHITE HANGING HEART T-LIGHT HOLDER, WHITE MET...</td>\n",
       "      <td>NaN</td>\n",
       "      <td>NaN</td>\n",
       "    </tr>\n",
       "    <tr>\n",
       "      <th>InvoiceNo</th>\n",
       "      <td>object</td>\n",
       "      <td>541909</td>\n",
       "      <td>0</td>\n",
       "      <td>0.00</td>\n",
       "      <td>25900</td>\n",
       "      <td>[536365, 536366, 536367, 536368, 536369, 53637...</td>\n",
       "      <td>NaN</td>\n",
       "      <td>NaN</td>\n",
       "    </tr>\n",
       "    <tr>\n",
       "      <th>StockCode</th>\n",
       "      <td>object</td>\n",
       "      <td>541909</td>\n",
       "      <td>0</td>\n",
       "      <td>0.00</td>\n",
       "      <td>4070</td>\n",
       "      <td>[85123A, 71053, 84406B, 84029G, 84029E, 22752,...</td>\n",
       "      <td>NaN</td>\n",
       "      <td>NaN</td>\n",
       "    </tr>\n",
       "    <tr>\n",
       "      <th>Quantity</th>\n",
       "      <td>int64</td>\n",
       "      <td>541909</td>\n",
       "      <td>0</td>\n",
       "      <td>0.00</td>\n",
       "      <td>722</td>\n",
       "      <td>[6, 8, 2, 32, 3, 4, 24, 12, 48, 18, 20, 36, 80...</td>\n",
       "      <td>-0.264076</td>\n",
       "      <td>119769.160031</td>\n",
       "    </tr>\n",
       "    <tr>\n",
       "      <th>InvoiceDate</th>\n",
       "      <td>datetime64[ns]</td>\n",
       "      <td>541909</td>\n",
       "      <td>0</td>\n",
       "      <td>0.00</td>\n",
       "      <td>23260</td>\n",
       "      <td>[2010-12-01 08:26:00, 2010-12-01 08:28:00, 201...</td>\n",
       "      <td>NaN</td>\n",
       "      <td>NaN</td>\n",
       "    </tr>\n",
       "    <tr>\n",
       "      <th>UnitPrice</th>\n",
       "      <td>float64</td>\n",
       "      <td>541909</td>\n",
       "      <td>0</td>\n",
       "      <td>0.00</td>\n",
       "      <td>1630</td>\n",
       "      <td>[2.55, 3.39, 2.75, 7.65, 4.25, 1.85, 1.69, 2.1...</td>\n",
       "      <td>186.506972</td>\n",
       "      <td>59005.719097</td>\n",
       "    </tr>\n",
       "    <tr>\n",
       "      <th>Country</th>\n",
       "      <td>object</td>\n",
       "      <td>541909</td>\n",
       "      <td>0</td>\n",
       "      <td>0.00</td>\n",
       "      <td>38</td>\n",
       "      <td>[United Kingdom, France, Australia, Netherland...</td>\n",
       "      <td>NaN</td>\n",
       "      <td>NaN</td>\n",
       "    </tr>\n",
       "  </tbody>\n",
       "</table>\n",
       "</div>"
      ],
      "text/plain": [
       "                  Data Type  Non-Null Count  Null Count  \\\n",
       "CustomerID          float64          406829      135080   \n",
       "Description          object          540455        1454   \n",
       "InvoiceNo            object          541909           0   \n",
       "StockCode            object          541909           0   \n",
       "Quantity              int64          541909           0   \n",
       "InvoiceDate  datetime64[ns]          541909           0   \n",
       "UnitPrice           float64          541909           0   \n",
       "Country              object          541909           0   \n",
       "\n",
       "             Missing Percentage (%)  Number of Unique Values  \\\n",
       "CustomerID                    24.93                     4373   \n",
       "Description                    0.27                     4224   \n",
       "InvoiceNo                      0.00                    25900   \n",
       "StockCode                      0.00                     4070   \n",
       "Quantity                       0.00                      722   \n",
       "InvoiceDate                    0.00                    23260   \n",
       "UnitPrice                      0.00                     1630   \n",
       "Country                        0.00                       38   \n",
       "\n",
       "                                          Sample Unique Values    Skewness  \\\n",
       "CustomerID   [17850.0, 13047.0, 12583.0, 13748.0, 15100.0, ...    0.029835   \n",
       "Description  [WHITE HANGING HEART T-LIGHT HOLDER, WHITE MET...         NaN   \n",
       "InvoiceNo    [536365, 536366, 536367, 536368, 536369, 53637...         NaN   \n",
       "StockCode    [85123A, 71053, 84406B, 84029G, 84029E, 22752,...         NaN   \n",
       "Quantity     [6, 8, 2, 32, 3, 4, 24, 12, 48, 18, 20, 36, 80...   -0.264076   \n",
       "InvoiceDate  [2010-12-01 08:26:00, 2010-12-01 08:28:00, 201...         NaN   \n",
       "UnitPrice    [2.55, 3.39, 2.75, 7.65, 4.25, 1.85, 1.69, 2.1...  186.506972   \n",
       "Country      [United Kingdom, France, Australia, Netherland...         NaN   \n",
       "\n",
       "                  Kurtosis  \n",
       "CustomerID       -1.179982  \n",
       "Description            NaN  \n",
       "InvoiceNo              NaN  \n",
       "StockCode              NaN  \n",
       "Quantity     119769.160031  \n",
       "InvoiceDate            NaN  \n",
       "UnitPrice     59005.719097  \n",
       "Country                NaN  "
      ]
     },
     "metadata": {},
     "output_type": "display_data"
    }
   ],
   "source": [
    "data_stru = get_structure(cd_or_df)\n",
    "display(data_stru.sort_values(by='Missing Percentage (%)', ascending=False))"
   ]
  },
  {
   "cell_type": "markdown",
   "id": "ddfbce00",
   "metadata": {},
   "source": [
    "And `CustomerId` missing meaning, that purchase is not associated with any customer and it does not add any signficance to our analysis and we can remove those records if necessary."
   ]
  },
  {
   "cell_type": "code",
   "execution_count": 52,
   "id": "ebfe5aef",
   "metadata": {},
   "outputs": [
    {
     "data": {
      "text/html": [
       "<div>\n",
       "<style scoped>\n",
       "    .dataframe tbody tr th:only-of-type {\n",
       "        vertical-align: middle;\n",
       "    }\n",
       "\n",
       "    .dataframe tbody tr th {\n",
       "        vertical-align: top;\n",
       "    }\n",
       "\n",
       "    .dataframe thead th {\n",
       "        text-align: right;\n",
       "    }\n",
       "</style>\n",
       "<table border=\"1\" class=\"dataframe\">\n",
       "  <thead>\n",
       "    <tr style=\"text-align: right;\">\n",
       "      <th></th>\n",
       "      <th>Quantity</th>\n",
       "      <th>InvoiceDate</th>\n",
       "      <th>UnitPrice</th>\n",
       "      <th>CustomerID</th>\n",
       "    </tr>\n",
       "  </thead>\n",
       "  <tbody>\n",
       "    <tr>\n",
       "      <th>count</th>\n",
       "      <td>541909.000000</td>\n",
       "      <td>541909</td>\n",
       "      <td>541909.000000</td>\n",
       "      <td>406829.000000</td>\n",
       "    </tr>\n",
       "    <tr>\n",
       "      <th>mean</th>\n",
       "      <td>9.552250</td>\n",
       "      <td>2011-07-04 13:34:57.156386048</td>\n",
       "      <td>4.611114</td>\n",
       "      <td>15287.690570</td>\n",
       "    </tr>\n",
       "    <tr>\n",
       "      <th>min</th>\n",
       "      <td>-80995.000000</td>\n",
       "      <td>2010-12-01 08:26:00</td>\n",
       "      <td>-11062.060000</td>\n",
       "      <td>12346.000000</td>\n",
       "    </tr>\n",
       "    <tr>\n",
       "      <th>25%</th>\n",
       "      <td>1.000000</td>\n",
       "      <td>2011-03-28 11:34:00</td>\n",
       "      <td>1.250000</td>\n",
       "      <td>13953.000000</td>\n",
       "    </tr>\n",
       "    <tr>\n",
       "      <th>50%</th>\n",
       "      <td>3.000000</td>\n",
       "      <td>2011-07-19 17:17:00</td>\n",
       "      <td>2.080000</td>\n",
       "      <td>15152.000000</td>\n",
       "    </tr>\n",
       "    <tr>\n",
       "      <th>75%</th>\n",
       "      <td>10.000000</td>\n",
       "      <td>2011-10-19 11:27:00</td>\n",
       "      <td>4.130000</td>\n",
       "      <td>16791.000000</td>\n",
       "    </tr>\n",
       "    <tr>\n",
       "      <th>max</th>\n",
       "      <td>80995.000000</td>\n",
       "      <td>2011-12-09 12:50:00</td>\n",
       "      <td>38970.000000</td>\n",
       "      <td>18287.000000</td>\n",
       "    </tr>\n",
       "    <tr>\n",
       "      <th>std</th>\n",
       "      <td>218.081158</td>\n",
       "      <td>NaN</td>\n",
       "      <td>96.759853</td>\n",
       "      <td>1713.600303</td>\n",
       "    </tr>\n",
       "  </tbody>\n",
       "</table>\n",
       "</div>"
      ],
      "text/plain": [
       "            Quantity                    InvoiceDate      UnitPrice  \\\n",
       "count  541909.000000                         541909  541909.000000   \n",
       "mean        9.552250  2011-07-04 13:34:57.156386048       4.611114   \n",
       "min    -80995.000000            2010-12-01 08:26:00  -11062.060000   \n",
       "25%         1.000000            2011-03-28 11:34:00       1.250000   \n",
       "50%         3.000000            2011-07-19 17:17:00       2.080000   \n",
       "75%        10.000000            2011-10-19 11:27:00       4.130000   \n",
       "max     80995.000000            2011-12-09 12:50:00   38970.000000   \n",
       "std       218.081158                            NaN      96.759853   \n",
       "\n",
       "          CustomerID  \n",
       "count  406829.000000  \n",
       "mean    15287.690570  \n",
       "min     12346.000000  \n",
       "25%     13953.000000  \n",
       "50%     15152.000000  \n",
       "75%     16791.000000  \n",
       "max     18287.000000  \n",
       "std      1713.600303  "
      ]
     },
     "execution_count": 52,
     "metadata": {},
     "output_type": "execute_result"
    }
   ],
   "source": [
    "cd_or_df.describe()"
   ]
  },
  {
   "cell_type": "markdown",
   "id": "b2ef7b4d",
   "metadata": {},
   "source": [
    "From the above data we can notice that `UnitPrice` and `Quantity` are some how negative which should not be the case generally. I have to disect the data more and understand at what situations it is negative and why before fixing it."
   ]
  },
  {
   "cell_type": "code",
   "execution_count": 53,
   "id": "e9fb779e",
   "metadata": {},
   "outputs": [
    {
     "data": {
      "text/html": [
       "<div>\n",
       "<style scoped>\n",
       "    .dataframe tbody tr th:only-of-type {\n",
       "        vertical-align: middle;\n",
       "    }\n",
       "\n",
       "    .dataframe tbody tr th {\n",
       "        vertical-align: top;\n",
       "    }\n",
       "\n",
       "    .dataframe thead th {\n",
       "        text-align: right;\n",
       "    }\n",
       "</style>\n",
       "<table border=\"1\" class=\"dataframe\">\n",
       "  <thead>\n",
       "    <tr style=\"text-align: right;\">\n",
       "      <th></th>\n",
       "      <th>InvoiceNo</th>\n",
       "      <th>StockCode</th>\n",
       "      <th>Description</th>\n",
       "      <th>Quantity</th>\n",
       "      <th>InvoiceDate</th>\n",
       "      <th>UnitPrice</th>\n",
       "      <th>CustomerID</th>\n",
       "      <th>Country</th>\n",
       "    </tr>\n",
       "  </thead>\n",
       "  <tbody>\n",
       "  </tbody>\n",
       "</table>\n",
       "</div>"
      ],
      "text/plain": [
       "Empty DataFrame\n",
       "Columns: [InvoiceNo, StockCode, Description, Quantity, InvoiceDate, UnitPrice, CustomerID, Country]\n",
       "Index: []"
      ]
     },
     "execution_count": 53,
     "metadata": {},
     "output_type": "execute_result"
    }
   ],
   "source": [
    "# checking if the occurance of negative values are in the same records\n",
    "\n",
    "cd_or_df[(cd_or_df['Quantity']<0) & (cd_or_df['UnitPrice']<0)]"
   ]
  },
  {
   "cell_type": "code",
   "execution_count": 55,
   "id": "e516606c",
   "metadata": {},
   "outputs": [
    {
     "data": {
      "text/html": [
       "<div>\n",
       "<style scoped>\n",
       "    .dataframe tbody tr th:only-of-type {\n",
       "        vertical-align: middle;\n",
       "    }\n",
       "\n",
       "    .dataframe tbody tr th {\n",
       "        vertical-align: top;\n",
       "    }\n",
       "\n",
       "    .dataframe thead th {\n",
       "        text-align: right;\n",
       "    }\n",
       "</style>\n",
       "<table border=\"1\" class=\"dataframe\">\n",
       "  <thead>\n",
       "    <tr style=\"text-align: right;\">\n",
       "      <th></th>\n",
       "      <th>InvoiceNo</th>\n",
       "      <th>StockCode</th>\n",
       "      <th>Description</th>\n",
       "      <th>Quantity</th>\n",
       "      <th>InvoiceDate</th>\n",
       "      <th>UnitPrice</th>\n",
       "      <th>CustomerID</th>\n",
       "      <th>Country</th>\n",
       "    </tr>\n",
       "  </thead>\n",
       "  <tbody>\n",
       "  </tbody>\n",
       "</table>\n",
       "</div>"
      ],
      "text/plain": [
       "Empty DataFrame\n",
       "Columns: [InvoiceNo, StockCode, Description, Quantity, InvoiceDate, UnitPrice, CustomerID, Country]\n",
       "Index: []"
      ]
     },
     "execution_count": 55,
     "metadata": {},
     "output_type": "execute_result"
    }
   ],
   "source": [
    "# checking if there are any records with 0\n",
    "cd_or_df[(cd_or_df['Quantity']==0) & (cd_or_df['UnitPrice']==0)]"
   ]
  },
  {
   "cell_type": "code",
   "execution_count": 69,
   "id": "b636c2cd",
   "metadata": {},
   "outputs": [
    {
     "data": {
      "text/plain": [
       "(2515, 8)"
      ]
     },
     "execution_count": 69,
     "metadata": {},
     "output_type": "execute_result"
    }
   ],
   "source": [
    "# checking if there are any records with 0 either or\n",
    "cd_or_df[(cd_or_df['Quantity']==0) | (cd_or_df['UnitPrice']==0)].shape"
   ]
  },
  {
   "cell_type": "code",
   "execution_count": 77,
   "id": "67ac8512",
   "metadata": {},
   "outputs": [
    {
     "data": {
      "text/plain": [
       "(11805, 8)"
      ]
     },
     "execution_count": 77,
     "metadata": {},
     "output_type": "execute_result"
    }
   ],
   "source": [
    "# checking 0 and negatives\n",
    "cd_or_df[(cd_or_df['Quantity']<=0) | (cd_or_df['UnitPrice']<=0)].shape"
   ]
  },
  {
   "cell_type": "code",
   "execution_count": 78,
   "id": "1662d1b4",
   "metadata": {
    "scrolled": true
   },
   "outputs": [
    {
     "data": {
      "text/plain": [
       "array([   nan, 12647., 16560., 14911., 13081., 15107., 17560., 13239.,\n",
       "       13113., 14410., 12457., 17667., 12415., 16818., 12507., 15581.,\n",
       "       14646., 16133., 12748., 15804., 12446., 18059., 14110., 12437.,\n",
       "       12431., 13014., 13985., 15602., 12603., 12444., 16406., 13256.])"
      ]
     },
     "execution_count": 78,
     "metadata": {},
     "output_type": "execute_result"
    }
   ],
   "source": [
    "# getting unique customerid for these type of data\n",
    "\n",
    "cd_or_df.loc[(cd_or_df['Quantity']==0) | (cd_or_df['UnitPrice']==0), ['CustomerID']]['CustomerID'].unique()"
   ]
  },
  {
   "cell_type": "code",
   "execution_count": 79,
   "id": "9fe16d11",
   "metadata": {},
   "outputs": [
    {
     "data": {
      "text/plain": [
       "array([14527., 15311., 17548., ..., 12985., 15951., 16446.])"
      ]
     },
     "execution_count": 79,
     "metadata": {},
     "output_type": "execute_result"
    }
   ],
   "source": [
    "# getting unique customerid for these type of data\n",
    "\n",
    "cd_or_df.loc[(cd_or_df['Quantity']<=0) | (cd_or_df['UnitPrice']<=0), ['CustomerID']]['CustomerID'].unique()"
   ]
  },
  {
   "cell_type": "code",
   "execution_count": 80,
   "id": "a6238e84",
   "metadata": {},
   "outputs": [],
   "source": [
    "# remove these kind of records\n",
    "\n",
    "# step 1: removing the duplicates\n",
    "cd_or_df.drop_duplicates(inplace=True)"
   ]
  },
  {
   "cell_type": "code",
   "execution_count": 81,
   "id": "ab4a7535",
   "metadata": {},
   "outputs": [],
   "source": [
    "# step_2: removing the missing values data\n",
    "\n",
    "cd_or_df.dropna(subset=['CustomerID'], inplace=True)"
   ]
  },
  {
   "cell_type": "code",
   "execution_count": 83,
   "id": "96624e2a",
   "metadata": {},
   "outputs": [],
   "source": [
    "# negative Quantity and Unitprice\n",
    "\n",
    "cd_or_df = cd_or_df[(cd_or_df['Quantity'] >= 0) & (cd_or_df['UnitPrice'] > 0)]"
   ]
  },
  {
   "cell_type": "code",
   "execution_count": 85,
   "id": "d574ca5d",
   "metadata": {},
   "outputs": [
    {
     "data": {
      "text/plain": [
       "(0, 8)"
      ]
     },
     "execution_count": 85,
     "metadata": {},
     "output_type": "execute_result"
    }
   ],
   "source": [
    "cd_or_df[(cd_or_df['Quantity']<=0) | (cd_or_df['UnitPrice']<=0)].shape"
   ]
  },
  {
   "cell_type": "code",
   "execution_count": 86,
   "id": "ce9ea2e4",
   "metadata": {},
   "outputs": [
    {
     "data": {
      "text/html": [
       "<div>\n",
       "<style scoped>\n",
       "    .dataframe tbody tr th:only-of-type {\n",
       "        vertical-align: middle;\n",
       "    }\n",
       "\n",
       "    .dataframe tbody tr th {\n",
       "        vertical-align: top;\n",
       "    }\n",
       "\n",
       "    .dataframe thead th {\n",
       "        text-align: right;\n",
       "    }\n",
       "</style>\n",
       "<table border=\"1\" class=\"dataframe\">\n",
       "  <thead>\n",
       "    <tr style=\"text-align: right;\">\n",
       "      <th></th>\n",
       "      <th>Data Type</th>\n",
       "      <th>Non-Null Count</th>\n",
       "      <th>Null Count</th>\n",
       "      <th>Missing Percentage (%)</th>\n",
       "      <th>Number of Unique Values</th>\n",
       "      <th>Sample Unique Values</th>\n",
       "      <th>Skewness</th>\n",
       "      <th>Kurtosis</th>\n",
       "    </tr>\n",
       "  </thead>\n",
       "  <tbody>\n",
       "    <tr>\n",
       "      <th>InvoiceNo</th>\n",
       "      <td>object</td>\n",
       "      <td>392692</td>\n",
       "      <td>0</td>\n",
       "      <td>0.0</td>\n",
       "      <td>18532</td>\n",
       "      <td>[536365, 536366, 536367, 536368, 536369, 53637...</td>\n",
       "      <td>NaN</td>\n",
       "      <td>NaN</td>\n",
       "    </tr>\n",
       "    <tr>\n",
       "      <th>StockCode</th>\n",
       "      <td>object</td>\n",
       "      <td>392692</td>\n",
       "      <td>0</td>\n",
       "      <td>0.0</td>\n",
       "      <td>3665</td>\n",
       "      <td>[85123A, 71053, 84406B, 84029G, 84029E, 22752,...</td>\n",
       "      <td>NaN</td>\n",
       "      <td>NaN</td>\n",
       "    </tr>\n",
       "    <tr>\n",
       "      <th>Description</th>\n",
       "      <td>object</td>\n",
       "      <td>392692</td>\n",
       "      <td>0</td>\n",
       "      <td>0.0</td>\n",
       "      <td>3877</td>\n",
       "      <td>[WHITE HANGING HEART T-LIGHT HOLDER, WHITE MET...</td>\n",
       "      <td>NaN</td>\n",
       "      <td>NaN</td>\n",
       "    </tr>\n",
       "    <tr>\n",
       "      <th>Quantity</th>\n",
       "      <td>int64</td>\n",
       "      <td>392692</td>\n",
       "      <td>0</td>\n",
       "      <td>0.0</td>\n",
       "      <td>301</td>\n",
       "      <td>[6, 8, 2, 32, 3, 4, 24, 12, 48, 18, 20, 36, 80...</td>\n",
       "      <td>407.345663</td>\n",
       "      <td>175940.085113</td>\n",
       "    </tr>\n",
       "    <tr>\n",
       "      <th>InvoiceDate</th>\n",
       "      <td>datetime64[ns]</td>\n",
       "      <td>392692</td>\n",
       "      <td>0</td>\n",
       "      <td>0.0</td>\n",
       "      <td>17282</td>\n",
       "      <td>[2010-12-01 08:26:00, 2010-12-01 08:28:00, 201...</td>\n",
       "      <td>NaN</td>\n",
       "      <td>NaN</td>\n",
       "    </tr>\n",
       "    <tr>\n",
       "      <th>UnitPrice</th>\n",
       "      <td>float64</td>\n",
       "      <td>392692</td>\n",
       "      <td>0</td>\n",
       "      <td>0.0</td>\n",
       "      <td>440</td>\n",
       "      <td>[2.55, 3.39, 2.75, 7.65, 4.25, 1.85, 1.69, 2.1...</td>\n",
       "      <td>202.740861</td>\n",
       "      <td>57398.335042</td>\n",
       "    </tr>\n",
       "    <tr>\n",
       "      <th>CustomerID</th>\n",
       "      <td>float64</td>\n",
       "      <td>392692</td>\n",
       "      <td>0</td>\n",
       "      <td>0.0</td>\n",
       "      <td>4338</td>\n",
       "      <td>[17850.0, 13047.0, 12583.0, 13748.0, 15100.0, ...</td>\n",
       "      <td>0.030148</td>\n",
       "      <td>-1.180692</td>\n",
       "    </tr>\n",
       "    <tr>\n",
       "      <th>Country</th>\n",
       "      <td>object</td>\n",
       "      <td>392692</td>\n",
       "      <td>0</td>\n",
       "      <td>0.0</td>\n",
       "      <td>37</td>\n",
       "      <td>[United Kingdom, France, Australia, Netherland...</td>\n",
       "      <td>NaN</td>\n",
       "      <td>NaN</td>\n",
       "    </tr>\n",
       "  </tbody>\n",
       "</table>\n",
       "</div>"
      ],
      "text/plain": [
       "                  Data Type  Non-Null Count  Null Count  \\\n",
       "InvoiceNo            object          392692           0   \n",
       "StockCode            object          392692           0   \n",
       "Description          object          392692           0   \n",
       "Quantity              int64          392692           0   \n",
       "InvoiceDate  datetime64[ns]          392692           0   \n",
       "UnitPrice           float64          392692           0   \n",
       "CustomerID          float64          392692           0   \n",
       "Country              object          392692           0   \n",
       "\n",
       "             Missing Percentage (%)  Number of Unique Values  \\\n",
       "InvoiceNo                       0.0                    18532   \n",
       "StockCode                       0.0                     3665   \n",
       "Description                     0.0                     3877   \n",
       "Quantity                        0.0                      301   \n",
       "InvoiceDate                     0.0                    17282   \n",
       "UnitPrice                       0.0                      440   \n",
       "CustomerID                      0.0                     4338   \n",
       "Country                         0.0                       37   \n",
       "\n",
       "                                          Sample Unique Values    Skewness  \\\n",
       "InvoiceNo    [536365, 536366, 536367, 536368, 536369, 53637...         NaN   \n",
       "StockCode    [85123A, 71053, 84406B, 84029G, 84029E, 22752,...         NaN   \n",
       "Description  [WHITE HANGING HEART T-LIGHT HOLDER, WHITE MET...         NaN   \n",
       "Quantity     [6, 8, 2, 32, 3, 4, 24, 12, 48, 18, 20, 36, 80...  407.345663   \n",
       "InvoiceDate  [2010-12-01 08:26:00, 2010-12-01 08:28:00, 201...         NaN   \n",
       "UnitPrice    [2.55, 3.39, 2.75, 7.65, 4.25, 1.85, 1.69, 2.1...  202.740861   \n",
       "CustomerID   [17850.0, 13047.0, 12583.0, 13748.0, 15100.0, ...    0.030148   \n",
       "Country      [United Kingdom, France, Australia, Netherland...         NaN   \n",
       "\n",
       "                  Kurtosis  \n",
       "InvoiceNo              NaN  \n",
       "StockCode              NaN  \n",
       "Description            NaN  \n",
       "Quantity     175940.085113  \n",
       "InvoiceDate            NaN  \n",
       "UnitPrice     57398.335042  \n",
       "CustomerID       -1.180692  \n",
       "Country                NaN  "
      ]
     },
     "metadata": {},
     "output_type": "display_data"
    }
   ],
   "source": [
    "data_stru = get_structure(cd_or_df)\n",
    "display(data_stru.sort_values(by='Missing Percentage (%)', ascending=False))"
   ]
  },
  {
   "cell_type": "code",
   "execution_count": null,
   "id": "b23bfda0",
   "metadata": {},
   "outputs": [],
   "source": [
    "Weirdly the total number unique values in `Description` a"
   ]
  }
 ],
 "metadata": {
  "kernelspec": {
   "display_name": "Python 3 (ipykernel)",
   "language": "python",
   "name": "python3"
  },
  "language_info": {
   "codemirror_mode": {
    "name": "ipython",
    "version": 3
   },
   "file_extension": ".py",
   "mimetype": "text/x-python",
   "name": "python",
   "nbconvert_exporter": "python",
   "pygments_lexer": "ipython3",
   "version": "3.11.7"
  }
 },
 "nbformat": 4,
 "nbformat_minor": 5
}
